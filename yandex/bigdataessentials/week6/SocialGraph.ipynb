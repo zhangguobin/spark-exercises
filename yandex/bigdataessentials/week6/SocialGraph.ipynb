{
 "cells": [
  {
   "cell_type": "code",
   "execution_count": null,
   "metadata": {},
   "outputs": [],
   "source": [
    "from pyspark import SparkConf, SparkContext\n",
    "conf = (SparkConf()\n",
    "         .setMaster(\"local\")\n",
    "         .setAppName(\"My app\")\n",
    "         .set(\"spark.executor.memory\", \"4g\"))\n",
    "sc = SparkContext.getOrCreate(conf)"
   ]
  },
  {
   "cell_type": "code",
   "execution_count": null,
   "metadata": {},
   "outputs": [],
   "source": [
    "def parse_edge(s):\n",
    "  user, follower = s.split(\"\\t\")\n",
    "  return (int(user), int(follower))\n",
    "\n",
    "def step(item):\n",
    "  prev_v, prev_d, next_v = item[0], item[1][0], item[1][1]\n",
    "  return (next_v, prev_d + 1)\n",
    "\n",
    "def complete(item):\n",
    "  v, old_d, new_d = item[0], item[1][0], item[1][1]\n",
    "  return (v, old_d if old_d is not None else new_d)\n",
    "\n",
    "n = 4  # number of partitions\n",
    "edges = sc.textFile(\"/data/twitter/twitter_sample_small.txt\").map(parse_edge).cache()\n",
    "forward_edges = edges.map(lambda e: (e[1], e[0])).partitionBy(n).persist()\n",
    "\n",
    "x = 12\n",
    "d = 0\n",
    "distances = sc.parallelize([(x, d)]).partitionBy(n)\n",
    "while True:\n",
    "  candidates = distances.join(forward_edges, n).map(step)\n",
    "  new_distances = distances.fullOuterJoin(candidates, n).map(complete, True).persist()\n",
    "  count = new_distances.filter(lambda i: i[1] == d + 1).count()\n",
    "  if count > 0:\n",
    "    d += 1\n",
    "    distances = new_distances\n",
    "  else:\n",
    "    break"
   ]
  },
  {
   "cell_type": "code",
   "execution_count": null,
   "metadata": {},
   "outputs": [],
   "source": [
    "distances.take(10)"
   ]
  },
  {
   "cell_type": "code",
   "execution_count": null,
   "metadata": {},
   "outputs": [],
   "source": [
    "def step_2(item):\n",
    "    prev_v, prev_d, prev_path, next_v = item[0], item[1][0][0], item[1][0][1], item[1][1]\n",
    "    return (next_v, (prev_d + 1, prev_path + (prev_v,)))\n",
    "\n",
    "def complete_2(item):\n",
    "    v, old_tuple, new_tuple = item[0], item[1][0], item[1][1]\n",
    "    if old_tuple is not None:\n",
    "        return (v, old_tuple)\n",
    "    else:\n",
    "        return (v, new_tuple)\n",
    "\n",
    "def shortest_path(from_v, to_v):\n",
    "    d = 0\n",
    "    distances_with_path = sc.parallelize([(to_v, (0, ()))]).partitionBy(n)\n",
    "    while True:\n",
    "        candidates = distances_with_path.join(forward_edges, n).map(step_2)\n",
    "        count = candidates.filter(lambda i: i[0] == from_v).count()\n",
    "        if count > 0:\n",
    "            break\n",
    "        new_distances = distances_with_path.fullOuterJoin(candidates, n).map(complete_2, True).persist()\n",
    "        count = new_distances.filter(lambda i: i[1][0] == d + 1).count()\n",
    "        if count > 0:\n",
    "            d += 1\n",
    "            distances_with_path = new_distances\n",
    "        else:\n",
    "            break\n",
    "    path = candidates.filter(lambda i: i[0] == from_v).collect()\n",
    "    if path is None:\n",
    "        return None\n",
    "    full_path = (path[0][1][1] + (from_v,))\n",
    "    return full_path"
   ]
  },
  {
   "cell_type": "code",
   "execution_count": null,
   "metadata": {},
   "outputs": [],
   "source": [
    "shortest_path(34, 12)"
   ]
  }
 ],
 "metadata": {
  "kernelspec": {
   "display_name": "Python 2",
   "language": "python",
   "name": "python2"
  },
  "language_info": {
   "codemirror_mode": {
    "name": "ipython",
    "version": 2
   },
   "file_extension": ".py",
   "mimetype": "text/x-python",
   "name": "python",
   "nbconvert_exporter": "python",
   "pygments_lexer": "ipython2",
   "version": "2.7.12"
  }
 },
 "nbformat": 4,
 "nbformat_minor": 2
}
