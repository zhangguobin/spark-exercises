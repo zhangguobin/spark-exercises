{
 "cells": [
  {
   "cell_type": "code",
   "execution_count": null,
   "metadata": {},
   "outputs": [],
   "source": [
    "from pyspark import SparkConf, SparkContext\n",
    "sc = SparkContext(conf=SparkConf().setAppName(\"MyApp\").setMaster(\"local\"))\n",
    "\n",
    "import re\n",
    "\n",
    "def parse_article(line):\n",
    "    try:\n",
    "        article_id, text = unicode(line.rstrip()).split('\\t', 1)\n",
    "        text = re.sub(\"^\\W+|\\W+$\", \"\", text, flags=re.UNICODE)\n",
    "        words = re.split(\"\\W*\\s+\\W*\", text, flags=re.UNICODE)\n",
    "        return words\n",
    "    except ValueError as e:\n",
    "        return []\n",
    "\n",
    "wiki = sc.textFile(\"/data/wiki/en_articles_part/articles-part\", 16).map(parse_article)\n",
    "result = wiki.take(1)[0]"
   ]
  },
  {
   "cell_type": "code",
   "execution_count": null,
   "metadata": {},
   "outputs": [],
   "source": [
    "for word in result[:50]:\n",
    "    print word"
   ]
  },
  {
   "cell_type": "code",
   "execution_count": null,
   "metadata": {},
   "outputs": [],
   "source": [
    "# convert capital to lowercase\n",
    "wiki_lc = wiki.map(lambda a: [x.lower() for x in a])\n",
    "\n",
    "# import numpy as np\n",
    "# wiki_lc = wiki.map(lambda a: np.char.asarray(a).lower())"
   ]
  },
  {
   "cell_type": "code",
   "execution_count": null,
   "metadata": {},
   "outputs": [],
   "source": [
    "# generate word pairs for all articles\n",
    "import numpy as np\n",
    "def generate_word_pairs(article):\n",
    "    if len(article) < 2:\n",
    "        return []\n",
    "    else:\n",
    "        _array = np.chararray(len(article) - 1, unicode=True)\n",
    "        _array[:] = '_'\n",
    "        result = np.core.defchararray.add(article[:-1], _array)\n",
    "        result = np.core.defchararray.add(result, article[1:])\n",
    "        return result\n",
    "word_pairs = wiki_lc.flatMap(lambda a: generate_word_pairs(a))"
   ]
  },
  {
   "cell_type": "code",
   "execution_count": null,
   "metadata": {},
   "outputs": [],
   "source": [
    "# map word_pair to (word_pair, 1) for count\n",
    "word_pair_kv = word_pairs.map(lambda a: (a, 1))"
   ]
  },
  {
   "cell_type": "code",
   "execution_count": null,
   "metadata": {},
   "outputs": [],
   "source": [
    "# count them\n",
    "word_pair_counts = word_pair_kv.reduceByKey(lambda a, b: a + b)\n",
    "word_pair_counts.take(10)"
   ]
  },
  {
   "cell_type": "code",
   "execution_count": null,
   "metadata": {},
   "outputs": [],
   "source": [
    "# filter narodnaya_\n",
    "narodnaya_filter = word_pair_counts.filter(lambda a: a[0].startswith('narodnaya_'))\n",
    "narodnaya_filter.collect()"
   ]
  }
 ],
 "metadata": {
  "kernelspec": {
   "display_name": "Python 2",
   "language": "python",
   "name": "python2"
  },
  "language_info": {
   "codemirror_mode": {
    "name": "ipython",
    "version": 2
   },
   "file_extension": ".py",
   "mimetype": "text/x-python",
   "name": "python",
   "nbconvert_exporter": "python",
   "pygments_lexer": "ipython2",
   "version": "2.7.12"
  }
 },
 "nbformat": 4,
 "nbformat_minor": 2
}
